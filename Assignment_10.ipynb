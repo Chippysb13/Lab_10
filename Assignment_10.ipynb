{
 "cells": [
  {
   "cell_type": "code",
   "execution_count": null,
   "metadata": {},
   "outputs": [],
   "source": [
    "import pandas as pd\n",
    "import matplotlib.pyplot as plt\n",
    "import numpy as np\n",
    "import seaborn as sns\n",
    "\n",
    "df = pd.read_csv('ontario_public_library_statistics_2022_open_data.csv', encoding='ISO-8859-1')\n",
    "df.head()\n",
    "# Display the first few rows of the dataset\n",
    "print(df.head())\n",
    "\n",
    "# Get summary statistics of the numerical columns\n",
    "print(df.describe())\n",
    "\n",
    "# Get information about the data types and missing values\n",
    "print(df.info())\n",
    "# Data Visualization\n",
    "\n",
    "# Plot a histogram of a numerical column\n",
    "df['B2.1.2  Pay Equity Grant'] = df['B2.1.2  Pay Equity Grant'].replace(',', '', regex=True).astype(float)\n",
    "\n",
    "\n",
    "plt.figure(figsize=(10, 6))\n",
    "sns.histplot(df['B2.1.2  Pay Equity Grant'], bins=20, kde=True)\n",
    "plt.title('Distribution of Pay Equity Grant')\n",
    "plt.xlabel('Pay Equity Grant')\n",
    "plt.ylabel('Frequency')\n",
    "plt.show()\n",
    "\n",
    "# Plot a box plot of a numerical column\n",
    "df['B2.1.2  Pay Equity Grant'] = df['B2.1.2  Pay Equity Grant'].replace(',', '', regex=True).astype(float)\n",
    "\n",
    "plt.figure(figsize=(10, 6))\n",
    "sns.boxplot(df['B2.1.2  Pay Equity Grant'])\n",
    "plt.title('Box Plot of Pay Equity Grant')\n",
    "plt.show()\n",
    "\n",
    "# Convert the column to a categorical data type\n",
    "df['A1.4 Type of Library Service (English)'] = df['A1.4 Type of Library Service (English)'].astype('category')\n",
    "\n",
    "# Plot a count plot of the categorical column\n",
    "plt.figure(figsize=(10, 6))\n",
    "sns.countplot(data=df, x='A1.4 Type of Library Service (English)')\n",
    "plt.title('Count Plot of Library Service Type')\n",
    "plt.xlabel('Library Service Type')\n",
    "plt.ylabel('Count')\n",
    "plt.show()"
   ]
  }
 ],
 "metadata": {
  "kernelspec": {
   "display_name": "Python 3",
   "language": "python",
   "name": "python3"
  },
  "language_info": {
   "name": "python",
   "version": "3.9.13"
  },
  "orig_nbformat": 4
 },
 "nbformat": 4,
 "nbformat_minor": 2
}
